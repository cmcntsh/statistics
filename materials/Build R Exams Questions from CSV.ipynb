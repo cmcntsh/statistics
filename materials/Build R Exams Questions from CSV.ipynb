{
 "cells": [
  {
   "cell_type": "code",
   "execution_count": 32,
   "metadata": {},
   "outputs": [
    {
     "name": "stdout",
     "output_type": "stream",
     "text": [
      "C:/Users/cimacint/Documents/GitHub/statistics/materials/Week1Questions.csv\n"
     ]
    }
   ],
   "source": [
    "# let user choose file to check\n",
    "import tkinter as tk\n",
    "from tkinter import filedialog\n",
    "\n",
    "root = tk.Tk()\n",
    "root.withdraw()\n",
    "\n",
    "file_path = filedialog.askopenfilename()\n",
    "print(file_path)"
   ]
  },
  {
   "cell_type": "code",
   "execution_count": 33,
   "metadata": {},
   "outputs": [
    {
     "name": "stdout",
     "output_type": "stream",
     "text": [
      "<function TFstring at 0x00000269C5516730>\n"
     ]
    }
   ],
   "source": [
    "# set up template strings for each question type\n",
    "\n",
    "# True False questions\n",
    "def TFstring(title,question,TF1,TF2,TF3,TF4):\n",
    "    \n",
    "    TFstring = (\n",
    "    f\"Question\\n\"\n",
    "    f\"========\\n\"\n",
    "    f\"{question}\\n\"\n",
    "    f\"\\n\"\n",
    "    f\"Answerlist\\n\"\n",
    "    f\"----------\\n\"\n",
    "    f\"* True\\n\"\n",
    "    f\"* False\\n\"\n",
    "    f\"\\n\"\n",
    "    f\"\\n\"\n",
    "    f\"Solution\\n\"\n",
    "    f\"========\\n\"\n",
    "    f\"\\n\"\n",
    "    f\"Answerlist\\n\"\n",
    "    f\"----------\\n\"\n",
    "    f\"* {TF1}.\\n\"\n",
    "    f\"* {TF2}.\\n\"\n",
    "    f\"\\n\"\n",
    "    f\"\\n\"\n",
    "    f\"Meta-information\\n\"\n",
    "    f\"================\\n\"\n",
    "    f\"exname: {title}\\n\"\n",
    "    f\"extype: mchoice\\n\"\n",
    "    f\"exsolution: {TF3}{TF4}\\n\"\n",
    "    f\"exshuffle: TRUE\"\n",
    "    )\n",
    "    return TFstring\n",
    "print(TFstring)"
   ]
  },
  {
   "cell_type": "code",
   "execution_count": 34,
   "metadata": {},
   "outputs": [
    {
     "name": "stdout",
     "output_type": "stream",
     "text": [
      "Done.\n"
     ]
    }
   ],
   "source": [
    "# create names for new files to create by inserting text before .csv file extension\n",
    "# in existing file name\n",
    "end_path_pos = file_path.rfind('/')\n",
    "\n",
    "print('Done.')"
   ]
  },
  {
   "cell_type": "code",
   "execution_count": 41,
   "metadata": {},
   "outputs": [
    {
     "name": "stdout",
     "output_type": "stream",
     "text": [
      "127 total rows in file.\n",
      "file opened\n",
      "True False = 64\n",
      "R exams Rmd files written for TF questions in folder:C:/Users/cimacint/Documents/GitHub/statistics/materials/R exams exercises/\n",
      "Multiple Choice = 50\n",
      "Multiple Response = 12\n",
      "Other = 0\n"
     ]
    }
   ],
   "source": [
    "import csv\n",
    "import re\n",
    "\n",
    "# count lines in file\n",
    "with open(file_path, encoding='utf-8-sig') as csv_obj:\n",
    "    read_CSV = csv.reader(csv_obj, delimiter=',')\n",
    "    row_count = sum(1 for row in read_CSV)\n",
    "    print(str(row_count) + ' total rows in file.')\n",
    "\n",
    "# iterate through rows in file\n",
    "with open(file_path, encoding='utf-8-sig') as csv_obj:\n",
    "    read_CSV = csv.reader(csv_obj, delimiter=',')\n",
    "    print('file opened')\n",
    "    \n",
    "    # set up variables to count rows and types of questions\n",
    "    # TF = True False questions\n",
    "    # MC = Multiple Choice questions (select 1 answer choice)\n",
    "    # MR = Multiple Response questions (select > 1 answer choice)\n",
    "    line_count = 0\n",
    "    TFcount = 0\n",
    "    MCcount = 0\n",
    "    MRcount = 0\n",
    "    Othercount = 0\n",
    "    \n",
    "    \n",
    "    \n",
    "    for row in read_CSV:\n",
    "        # first row will be a header. We can skip that.\n",
    "        if line_count > 0:\n",
    "            # load row information into variables\n",
    "            qtype = row[0]\n",
    "            title = row[1]\n",
    "            points = row[2] \n",
    "            question = row[3]\n",
    "            correct = row[4]\n",
    "            answers = row[5:14]\n",
    "            \n",
    "            R_exercise_file = f'{file_path[:end_path_pos]}/R exams exercises/{title}.Rmd'\n",
    "            \n",
    "            \n",
    "            \n",
    "            # check what the question type is in each row\n",
    "            if qtype==\"TF\":\n",
    "                if correct==\"TRUE\":\n",
    "                    TF1 = 'True'\n",
    "                    TF2 = 'False'\n",
    "                    TF3 = '1'\n",
    "                    TF4 = '0'\n",
    "                    #print(TF1)\n",
    "                elif correct==\"FALSE\":\n",
    "                    TF1 = 'False'\n",
    "                    TF2 = 'True'\n",
    "                    TF3 = '0'\n",
    "                    TF4 = '1'\n",
    "                    #print(TF1)\n",
    "                output_string = TFstring(title,question,TF1,TF2,TF3,TF4)\n",
    "                with open(R_exercise_file, 'w') as f:\n",
    "                    f.write(output_string)\n",
    "                \n",
    "                TFcount +=1\n",
    "            \n",
    "            elif qtype==\"MC\":\n",
    "                MCcount +=1\n",
    "            elif qtype==\"MR\":\n",
    "                MRcount +=1\n",
    "            else:\n",
    "                Othercount +=1\n",
    "            \n",
    "        \n",
    "        line_count +=1\n",
    "        \n",
    "    print(\"True False = \" + str(TFcount))\n",
    "    print('R exams Rmd files written for TF questions in folder:' + R_exercise_file[:end_path_pos+19])\n",
    "    print(\"Multiple Choice = \" + str(MCcount))\n",
    "    print(\"Multiple Response = \" + str(MRcount))\n",
    "    print(\"Other = \" + str(Othercount))\n"
   ]
  }
 ],
 "metadata": {
  "kernelspec": {
   "display_name": "Python 3",
   "language": "python",
   "name": "python3"
  },
  "language_info": {
   "codemirror_mode": {
    "name": "ipython",
    "version": 3
   },
   "file_extension": ".py",
   "mimetype": "text/x-python",
   "name": "python",
   "nbconvert_exporter": "python",
   "pygments_lexer": "ipython3",
   "version": "3.7.0"
  },
  "varInspector": {
   "cols": {
    "lenName": 16,
    "lenType": 16,
    "lenVar": 40
   },
   "kernels_config": {
    "python": {
     "delete_cmd_postfix": "",
     "delete_cmd_prefix": "del ",
     "library": "var_list.py",
     "varRefreshCmd": "print(var_dic_list())"
    },
    "r": {
     "delete_cmd_postfix": ") ",
     "delete_cmd_prefix": "rm(",
     "library": "var_list.r",
     "varRefreshCmd": "cat(var_dic_list()) "
    }
   },
   "types_to_exclude": [
    "module",
    "function",
    "builtin_function_or_method",
    "instance",
    "_Feature"
   ],
   "window_display": false
  }
 },
 "nbformat": 4,
 "nbformat_minor": 2
}
